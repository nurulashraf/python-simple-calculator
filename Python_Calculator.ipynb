{
  "nbformat": 4,
  "nbformat_minor": 0,
  "metadata": {
    "colab": {
      "provenance": [],
      "authorship_tag": "ABX9TyNRmGK3gwxX7M4PpnKedBg8",
      "include_colab_link": true
    },
    "kernelspec": {
      "name": "python3",
      "display_name": "Python 3"
    },
    "language_info": {
      "name": "python"
    }
  },
  "cells": [
    {
      "cell_type": "markdown",
      "metadata": {
        "id": "view-in-github",
        "colab_type": "text"
      },
      "source": [
        "<a href=\"https://colab.research.google.com/github/nurulashraf/python-simple-calculator/blob/main/Python_Calculator.ipynb\" target=\"_parent\"><img src=\"https://colab.research.google.com/assets/colab-badge.svg\" alt=\"Open In Colab\"/></a>"
      ]
    },
    {
      "cell_type": "code",
      "execution_count": null,
      "metadata": {
        "id": "d4EhS06kjbxV"
      },
      "outputs": [],
      "source": [
        "# Function to perform addition\n",
        "def add(a, b):\n",
        "    return a + b\n",
        "\n",
        "# Function to perform subtraction\n",
        "def subtract(a, b):\n",
        "    return a - b\n",
        "\n",
        "# Function to perform multiplication\n",
        "def multiply(a, b):\n",
        "    return a * b\n",
        "\n",
        "# Function to perform division\n",
        "def divide(a, b):\n",
        "    try:\n",
        "        return a / b\n",
        "    except ZeroDivisionError:\n",
        "        return \"Error! Division by zero is not allowed.\"\n",
        "\n",
        "# Display options to the user\n",
        "def show_menu():\n",
        "    print(\"\\nSelect an operation:\")\n",
        "    print(\"1. Addition\")\n",
        "    print(\"2. Subtraction\")\n",
        "    print(\"3. Multiplication\")\n",
        "    print(\"4. Division\")\n",
        "    print(\"5. Exit\")\n",
        "\n",
        "# Main program loop\n",
        "while True:\n",
        "    # Show the menu\n",
        "    show_menu()\n",
        "\n",
        "    # Take user input for the operation\n",
        "    choice = input(\"\\nEnter your choice (1-5): \")\n",
        "\n",
        "    # Check if the user wants to exit\n",
        "    if choice == '5':\n",
        "        print(\"Exiting the calculator. Goodbye!\")\n",
        "        break\n",
        "\n",
        "    # Ensure the user enters a valid choice\n",
        "    if choice not in ['1', '2', '3', '4']:\n",
        "        print(\"Invalid choice. Please select a valid option from 1 to 5.\")\n",
        "        continue\n",
        "\n",
        "    # Get two numbers from the user with error handling\n",
        "    try:\n",
        "        num1 = float(input(\"Enter the first number: \"))\n",
        "        num2 = float(input(\"Enter the second number: \"))\n",
        "    except ValueError:\n",
        "        print(\"Invalid input! Please enter numeric values only.\")\n",
        "        continue\n",
        "\n",
        "    # Perform the selected operation and display the result\n",
        "    try:\n",
        "        if choice == '1':\n",
        "            print(f\"The result is: {add(num1, num2)}\")\n",
        "        elif choice == '2':\n",
        "            print(f\"The result is: {subtract(num1, num2)}\")\n",
        "        elif choice == '3':\n",
        "            print(f\"The result is: {multiply(num1, num2)}\")\n",
        "        elif choice == '4':\n",
        "            print(f\"The result is: {divide(num1, num2)}\")\n",
        "    except Exception as e:\n",
        "        # Catch any unexpected errors\n",
        "        print(f\"An unexpected error occurred: {e}\")\n"
      ]
    }
  ]
}